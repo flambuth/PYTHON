{
 "cells": [
  {
   "cell_type": "code",
   "execution_count": 1,
   "metadata": {},
   "outputs": [
    {
     "ename": "Exception",
     "evalue": "x should not exceed 5. The value of x was: 10",
     "output_type": "error",
     "traceback": [
      "\u001b[0;31m---------------------------------------------------------------------------\u001b[0m",
      "\u001b[0;31mException\u001b[0m                                 Traceback (most recent call last)",
      "\u001b[0;32m<ipython-input-1-5c2e6c28125c>\u001b[0m in \u001b[0;36m<module>\u001b[0;34m\u001b[0m\n\u001b[1;32m      1\u001b[0m \u001b[0mx\u001b[0m \u001b[0;34m=\u001b[0m \u001b[0;36m10\u001b[0m\u001b[0;34m\u001b[0m\u001b[0;34m\u001b[0m\u001b[0m\n\u001b[1;32m      2\u001b[0m \u001b[0;32mif\u001b[0m \u001b[0mx\u001b[0m \u001b[0;34m>\u001b[0m \u001b[0;36m5\u001b[0m\u001b[0;34m:\u001b[0m\u001b[0;34m\u001b[0m\u001b[0;34m\u001b[0m\u001b[0m\n\u001b[0;32m----> 3\u001b[0;31m     \u001b[0;32mraise\u001b[0m \u001b[0mException\u001b[0m\u001b[0;34m(\u001b[0m\u001b[0;34m'x should not exceed 5. The value of x was: {}'\u001b[0m\u001b[0;34m.\u001b[0m\u001b[0mformat\u001b[0m\u001b[0;34m(\u001b[0m\u001b[0mx\u001b[0m\u001b[0;34m)\u001b[0m\u001b[0;34m)\u001b[0m\u001b[0;34m\u001b[0m\u001b[0;34m\u001b[0m\u001b[0m\n\u001b[0m\u001b[1;32m      4\u001b[0m \u001b[0;34m\u001b[0m\u001b[0m\n",
      "\u001b[0;31mException\u001b[0m: x should not exceed 5. The value of x was: 10"
     ]
    }
   ],
   "source": [
    "x = 10\n",
    "if x > 5:\n",
    "    raise Exception('x should not exceed 5. The value of x was: {}'.format(x))\n",
    "    "
   ]
  },
  {
   "cell_type": "code",
   "execution_count": null,
   "metadata": {},
   "outputs": [],
   "source": [
    "try:\n",
    "    print('what')\n",
    "    x= input(\"don't use any capital letters: \")\n",
    "#     test= x**x\n",
    "    if x[0] in 'aeiou':\n",
    "        raise Exception(\"I told you not do do that.\")\n",
    "except:\n",
    "    loop = True\n",
    "    while loop:\n",
    "        print(\"now we are stuck here forever\")\n",
    "        blob = input(\"Y/N?\")\n",
    "        if blob.upper() == \"Y\":\n",
    "            break"
   ]
  },
  {
   "cell_type": "code",
   "execution_count": null,
   "metadata": {},
   "outputs": [
    {
     "name": "stdout",
     "output_type": "stream",
     "text": [
      "what\n",
      "don't use any capital letters: jerry\n",
      "now we are stuck here forever\n",
      "Y/N?its not my fault\n",
      "now we are stuck here forever\n"
     ]
    }
   ],
   "source": [
    "try:\n",
    "    print('what')\n",
    "    x= input(\"don't use any capital letters: \")\n",
    "    test= x**x\n",
    "    if x[0] in 'aeiou':\n",
    "        raise Exception(\"I told you not do do that.\")\n",
    "except:\n",
    "    loop = True\n",
    "    while loop:\n",
    "        print(\"now we are stuck here forever\")\n",
    "        blob = input(\"Y/N?\")\n",
    "        if blob.upper() == \"Y\":\n",
    "            break\n",
    "finally:\n",
    "    print(\"It was your fault. It was\")"
   ]
  },
  {
   "cell_type": "code",
   "execution_count": null,
   "metadata": {},
   "outputs": [],
   "source": [
    "while loop:\n",
    "        print(\"now we are stuck here forever\")\n",
    "        blob = input(\"Y/N?\")\n",
    "        if blob.upper() == \"Y\":\n",
    "            break"
   ]
  },
  {
   "cell_type": "code",
   "execution_count": 3,
   "metadata": {},
   "outputs": [
    {
     "name": "stdout",
     "output_type": "stream",
     "text": [
      "Current Letter : P\n",
      "Current Letter : y\n",
      "Current Letter : t\n",
      "Current Letter : o\n",
      "Current Letter : n\n",
      "Current variable value : 9\n",
      "Current variable value : 8\n",
      "Current variable value : 7\n",
      "Current variable value : 6\n",
      "Current variable value : 4\n",
      "Current variable value : 3\n",
      "Current variable value : 2\n",
      "Current variable value : 1\n",
      "Current variable value : 0\n",
      "Good bye!\n"
     ]
    }
   ],
   "source": [
    "for letter in 'Python':     # First Example\n",
    "   if letter == 'h':\n",
    "      continue\n",
    "   print(f'Current Letter :', letter)\n",
    "\n",
    "var = 10                    # Second Example\n",
    "while var > 0:              \n",
    "   var = var -1\n",
    "   if var == 5:\n",
    "      continue\n",
    "   print(f'Current variable value :', var)\n",
    "print(\"Good bye!\")"
   ]
  },
  {
   "cell_type": "code",
   "execution_count": 5,
   "metadata": {},
   "outputs": [
    {
     "name": "stdout",
     "output_type": "stream",
     "text": [
      "['my', 'file', 'has', 'too', 'many']\n"
     ]
    }
   ],
   "source": [
    "x = \"my.file.has.too.many\"\n",
    "listo = x.split(\".\")\n",
    "print(listo)"
   ]
  },
  {
   "cell_type": "code",
   "execution_count": 13,
   "metadata": {},
   "outputs": [],
   "source": [
    "def capitalize_names(listo):\n",
    "    capital_list = []\n",
    "    return [capital_list.append({'first_name':i['first_name'].capitalize(), 'last_name':i['last_name'].capitalize()}) \n",
    " for i in listo]\n",
    "#     capital_list = []                                                                                          \n",
    "#     for i in listo:  \n",
    "#         capital_list.append({'first_name':i['first_name'].capitalize(), 'last_name':i['last_name'].capitalize()}) \n",
    "#     return capital_list\n",
    "    \n",
    "    \n",
    "names = []\n",
    "names.append({'first_name': 'ada', 'last_name': 'lovelace'})\n",
    "names.append({'first_name': 'marie', 'last_name': 'curie'})"
   ]
  },
  {
   "cell_type": "code",
   "execution_count": 11,
   "metadata": {},
   "outputs": [
    {
     "data": {
      "text/plain": [
       "[{'first_name': 'ada', 'last_name': 'lovelace'},\n",
       " {'first_name': 'marie', 'last_name': 'curie'}]"
      ]
     },
     "execution_count": 11,
     "metadata": {},
     "output_type": "execute_result"
    }
   ],
   "source": [
    "names"
   ]
  },
  {
   "cell_type": "code",
   "execution_count": 15,
   "metadata": {},
   "outputs": [
    {
     "ename": "TypeError",
     "evalue": "string indices must be integers",
     "output_type": "error",
     "traceback": [
      "\u001b[0;31m---------------------------------------------------------------------------\u001b[0m",
      "\u001b[0;31mTypeError\u001b[0m                                 Traceback (most recent call last)",
      "\u001b[0;32m<ipython-input-15-fff1ebf8a763>\u001b[0m in \u001b[0;36m<module>\u001b[0;34m\u001b[0m\n\u001b[1;32m      1\u001b[0m x= [names.append({'first_name':i['first_name'].capitalize(), 'last_name':i['last_name'].names()}) \n\u001b[0;32m----> 2\u001b[0;31m  for i in listo]\n\u001b[0m",
      "\u001b[0;32m<ipython-input-15-fff1ebf8a763>\u001b[0m in \u001b[0;36m<listcomp>\u001b[0;34m(.0)\u001b[0m\n\u001b[1;32m      1\u001b[0m x= [names.append({'first_name':i['first_name'].capitalize(), 'last_name':i['last_name'].names()}) \n\u001b[0;32m----> 2\u001b[0;31m  for i in listo]\n\u001b[0m",
      "\u001b[0;31mTypeError\u001b[0m: string indices must be integers"
     ]
    }
   ],
   "source": [
    "x= [names.append({'first_name':i['first_name'].capitalize(), 'last_name':i['last_name'].names()}) \n",
    " for i in listo]"
   ]
  },
  {
   "cell_type": "code",
   "execution_count": null,
   "metadata": {},
   "outputs": [],
   "source": []
  }
 ],
 "metadata": {
  "kernelspec": {
   "display_name": "Python 3",
   "language": "python",
   "name": "python3"
  },
  "language_info": {
   "codemirror_mode": {
    "name": "ipython",
    "version": 3
   },
   "file_extension": ".py",
   "mimetype": "text/x-python",
   "name": "python",
   "nbconvert_exporter": "python",
   "pygments_lexer": "ipython3",
   "version": "3.7.3"
  }
 },
 "nbformat": 4,
 "nbformat_minor": 2
}
