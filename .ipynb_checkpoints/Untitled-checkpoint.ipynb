{
 "cells": [
  {
   "cell_type": "code",
   "execution_count": 5,
   "metadata": {},
   "outputs": [],
   "source": [
    "def is_vowel(char):\n",
    "    return char.lower() in 'aeiou'\n",
    "\n",
    "assert is_vowel('a') == True\n",
    "assert is_vowel('e') == True\n",
    "assert is_vowel('I') == True\n",
    "assert is_vowel('aa') == False\n",
    "assert is_vowel('z') == False"
   ]
  },
  {
   "cell_type": "code",
   "execution_count": 7,
   "metadata": {},
   "outputs": [],
   "source": [
    "def is_consonant(char):\n",
    "    return not is_vowel(char)\n",
    "\n",
    "assert is_consonant('a') == False\n",
    "assert is_consonant('c') == True\n",
    "assert is_consonant('I') == False"
   ]
  },
  {
   "cell_type": "code",
   "execution_count": 11,
   "metadata": {},
   "outputs": [],
   "source": [
    "def capitalize_if_start_with_cons(word):\n",
    "    return word.capitalize() if is_consonant(word[0]) else word\n",
    "\n",
    "assert capitalize_if_start_with_cons('codeup') == 'Codeup'\n",
    "assert capitalize_if_start_with_cons('bayes') == 'Bayes'\n",
    "assert capitalize_if_start_with_cons('Codeup') == 'Codeup'\n"
   ]
  },
  {
   "cell_type": "code",
   "execution_count": 15,
   "metadata": {},
   "outputs": [],
   "source": [
    "def calculate_tip(bill, percentage=.15):\n",
    "    return bill * percentage\n",
    "\n",
    "assert calculate_tip(20) == 3\n",
    "assert calculate_tip(20,.1) == 2\n",
    "assert calculate_tip(20,1.1) == 22"
   ]
  },
  {
   "cell_type": "code",
   "execution_count": 19,
   "metadata": {},
   "outputs": [],
   "source": [
    "def handle_commas(phrase):\n",
    "    commas = [i for i in phrase if i==',']\n",
    "    return len(commas)\n",
    "\n",
    "assert handle_commas(\"Jerry's Place, the worst\") == 1\n",
    "assert handle_commas(\"Tom, Dick, and Harry\") == 2"
   ]
  },
  {
   "cell_type": "code",
   "execution_count": 27,
   "metadata": {},
   "outputs": [],
   "source": [
    "def handle_commas(s):\n",
    "    no_commas = [i for i in s if i!=',']\n",
    "    return float(\"\".join(no_commas))\n",
    "\n",
    "assert handle_commas('1,000') == 1000\n"
   ]
  },
  {
   "cell_type": "code",
   "execution_count": 30,
   "metadata": {},
   "outputs": [],
   "source": [
    "def remove_vowels(phrase):\n",
    "#    no_vowels = [i for i in phrase if i.lower() not in 'aeiou']\n",
    "    return ''.join([i for i in phrase if i.lower() not in 'aeiou'])\n",
    "\n",
    "assert remove_vowels('Blob') == 'Blb'\n",
    "assert remove_vowels('Anne-Margaret') == 'nn-Mrgrt'\n",
    "assert remove_vowels('jAmes') == 'jms'\n"
   ]
  },
  {
   "cell_type": "code",
   "execution_count": 31,
   "metadata": {},
   "outputs": [],
   "source": [
    "def normalize_name(phrase): \n",
    "    if phrase[0].isalpha() == False:\n",
    "        phrase = phrase[1:]\n",
    "    phrase = phrase.strip() \n",
    "    phrase = phrase.replace(\" \",\"_\") \n",
    "    phrase = phrase.lower() \n",
    "    return phrase \n",
    "\n",
    "assert normalize_name('% Completed') == 'completed'"
   ]
  },
  {
   "cell_type": "code",
   "execution_count": null,
   "metadata": {},
   "outputs": [],
   "source": []
  }
 ],
 "metadata": {
  "kernelspec": {
   "display_name": "Python 3",
   "language": "python",
   "name": "python3"
  },
  "language_info": {
   "codemirror_mode": {
    "name": "ipython",
    "version": 3
   },
   "file_extension": ".py",
   "mimetype": "text/x-python",
   "name": "python",
   "nbconvert_exporter": "python",
   "pygments_lexer": "ipython3",
   "version": "3.7.3"
  }
 },
 "nbformat": 4,
 "nbformat_minor": 2
}
